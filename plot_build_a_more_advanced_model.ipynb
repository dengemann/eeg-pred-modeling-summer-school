{
 "cells": [
  {
   "cell_type": "code",
   "execution_count": 1,
   "id": "injured-metropolitan",
   "metadata": {},
   "outputs": [
    {
     "name": "stderr",
     "output_type": "stream",
     "text": [
      "/Users/dengeman/miniforge3-arm/lib/python3.9/site-packages/numba/cpython/hashing.py:484: UserWarning: FNV hashing is not implemented in Numba. See PEP 456 https://www.python.org/dev/peps/pep-0456/ for rationale over not using FNV. Numba will continue to work, but hashes for built in types will be computed using siphash24. This will permit e.g. dictionaries to continue to behave as expected, however anything relying on the value of the hash opposed to hash as a derived property is likely to not work as expected.\n",
      "  warnings.warn(msg)\n"
     ]
    }
   ],
   "source": [
    "import numpy as np\n",
    "import pandas as pd\n",
    "import matplotlib.pyplot as plt\n",
    "\n",
    "import numpy as np\n",
    "import mne"
   ]
  },
  {
   "cell_type": "code",
   "execution_count": 2,
   "id": "minute-destruction",
   "metadata": {},
   "outputs": [],
   "source": [
    "# some viz config\n",
    "small_size, medium_size, bigger_size = 13, 18, 18\n",
    "\n",
    "plt.rc('font', size=small_size)          # controls default text sizes\n",
    "plt.rc('axes', titlesize=small_size)     # fontsize of the axes title\n",
    "plt.rc('axes', labelsize=medium_size)    # fontsize of the x and y labels\n",
    "plt.rc('xtick', labelsize=small_size)    # fontsize of the tick labels\n",
    "plt.rc('ytick', labelsize=small_size)    # fontsize of the tick labels\n",
    "plt.rc('legend', fontsize=small_size)    # legend fontsize\n",
    "plt.rc('figure', titlesize=bigger_size)  # fontsize of the figure title"
   ]
  },
  {
   "cell_type": "markdown",
   "id": "infrared-identification",
   "metadata": {},
   "source": [
    "## Let's start all over again\n",
    "\n",
    "We will just read in the data as we did before, this time focusing on covariance matrices which, when combined with more advanced feature modeling, may improve performance"
   ]
  },
  {
   "cell_type": "code",
   "execution_count": 3,
   "id": "frank-eight",
   "metadata": {},
   "outputs": [
    {
     "data": {
      "text/plain": [
       "Index(['sub-CBM00254', 'sub-CBM00181', 'sub-CBM00222', 'sub-CBM00104',\n",
       "       'sub-CBM00244', 'sub-CBM00093', 'sub-CBM00036', 'sub-CBM00142',\n",
       "       'sub-CBM00160', 'sub-CBM00185',\n",
       "       ...\n",
       "       'sub-CBM00085', 'sub-CBM00015', 'sub-CBM00131', 'sub-CBM00065',\n",
       "       'sub-CBM00192', 'sub-CBM00111', 'sub-CBM00103', 'sub-CBM00076',\n",
       "       'sub-CBM00243', 'sub-CBM00228'],\n",
       "      dtype='object', name='Code', length=282)"
      ]
     },
     "execution_count": 3,
     "metadata": {},
     "output_type": "execute_result"
    }
   ],
   "source": [
    "from sklearn.model_selection import train_test_split\n",
    "\n",
    "\n",
    "df_demographics = pd.read_csv('./inputs/Demographic_data.csv', header=1)\n",
    "\n",
    "# remove empty columns\n",
    "df_demographics = df_demographics.iloc[:, :5].set_index('Code')\n",
    "df_demographics\n",
    "\n",
    "\n",
    "# The later code uses the prefix \"sub-\" in the participants identifier, we will add it here to be fine\n",
    "\n",
    "df_demographics.index = \"sub-\" + df_demographics.index\n",
    "df_demographics.index"
   ]
  },
  {
   "cell_type": "code",
   "execution_count": 4,
   "id": "different-swaziland",
   "metadata": {},
   "outputs": [
    {
     "data": {
      "text/plain": [
       "0      sub-CBM00254\n",
       "1      sub-CBM00181\n",
       "2      sub-CBM00222\n",
       "3      sub-CBM00104\n",
       "4      sub-CBM00244\n",
       "           ...     \n",
       "245    sub-CBM00192\n",
       "246    sub-CBM00111\n",
       "247    sub-CBM00103\n",
       "248    sub-CBM00076\n",
       "249    sub-CBM00228\n",
       "Name: subject, Length: 249, dtype: object"
      ]
     },
     "execution_count": 4,
     "metadata": {},
     "output_type": "execute_result"
    }
   ],
   "source": [
    "# now we read in the processing log to see for which participants we have EEG\n",
    "\n",
    "proc_log = pd.read_csv('./outputs/autoreject_log.csv')\n",
    "good_subjects = proc_log.query('ok == \"OK\"').subject\n",
    "good_subjects"
   ]
  },
  {
   "cell_type": "code",
   "execution_count": 5,
   "id": "scenic-hormone",
   "metadata": {},
   "outputs": [],
   "source": [
    "# then we filter the demographic list accordingly and establish the same order\n",
    "\n",
    "df_demographics = df_demographics.loc[good_subjects]"
   ]
  },
  {
   "cell_type": "code",
   "execution_count": 6,
   "id": "recreational-reduction",
   "metadata": {},
   "outputs": [],
   "source": [
    "# Now we can put some data aside for testing and focus on 80 percent of the cases for exploring\n",
    "\n",
    "train_cases, test_cases = train_test_split(df_demographics, test_size=.20, random_state=42)"
   ]
  },
  {
   "cell_type": "markdown",
   "id": "coral-currency",
   "metadata": {},
   "source": [
    "## Read the pre-computed features\n",
    "\n",
    "We first start with the power spectra. As we read, we make sure features are stored in\n",
    "the same order as our meta info."
   ]
  },
  {
   "cell_type": "code",
   "execution_count": 7,
   "id": "robust-vermont",
   "metadata": {},
   "outputs": [
    {
     "name": "stdout",
     "output_type": "stream",
     "text": [
      "(199, 4, 53, 53)\n"
     ]
    }
   ],
   "source": [
    "features = mne.externals.h5io.read_hdf5('./outputs/features_eyes-closed.h5')\n",
    "covs = [features[sub]['covs'] for sub in train_cases.index]\n",
    "X_covs = np.array(covs)\n",
    "print(X_covs.shape)  # hooray we have an array! :D"
   ]
  },
  {
   "cell_type": "code",
   "execution_count": 8,
   "id": "sustainable-capital",
   "metadata": {},
   "outputs": [],
   "source": [
    "# But what are these dimensions?"
   ]
  },
  {
   "cell_type": "markdown",
   "id": "regulation-national",
   "metadata": {},
   "source": [
    "## Let's explore these covariances"
   ]
  },
  {
   "cell_type": "code",
   "execution_count": 9,
   "id": "specific-chemistry",
   "metadata": {},
   "outputs": [
    {
     "name": "stderr",
     "output_type": "stream",
     "text": [
      "<ipython-input-9-2d0906e51bf0>:1: SettingWithCopyWarning: \n",
      "A value is trying to be set on a copy of a slice from a DataFrame.\n",
      "Try using .loc[row_indexer,col_indexer] = value instead\n",
      "\n",
      "See the caveats in the documentation: https://pandas.pydata.org/pandas-docs/stable/user_guide/indexing.html#returning-a-view-versus-a-copy\n",
      "  train_cases['age_group'] = pd.cut(train_cases.Age, 4)\n"
     ]
    }
   ],
   "source": [
    "train_cases['age_group'] = pd.cut(train_cases.Age, 4)"
   ]
  },
  {
   "cell_type": "code",
   "execution_count": 10,
   "id": "virgin-passing",
   "metadata": {},
   "outputs": [],
   "source": [
    "# now we can do a group by after setting the index to range\n",
    "train_cases = train_cases.reset_index()\n"
   ]
  },
  {
   "cell_type": "code",
   "execution_count": 11,
   "id": "designing-layout",
   "metadata": {},
   "outputs": [
    {
     "data": {
      "image/png": "[encoded data removed]",
      "text/plain": [
       "<Figure size 1008x648 with 8 Axes>"
      ]
     },
     "metadata": {
      "needs_background": "light"
     },
     "output_type": "display_data"
    }
   ],
   "source": [
    "from mpl_toolkits.axes_grid1 import make_axes_locatable\n",
    "\n",
    "color = plt.cm.viridis(np.linspace(0.1, 0.9, 4))\n",
    "fig, axes = plt.subplots(1, 4, figsize=(14, 9))\n",
    "for ii, (key, inds) in enumerate(train_cases.groupby('age_group').groups.items()):\n",
    "    im = axes[ii].matshow(X_covs[inds][1].mean(0), cmap='RdBu')\n",
    "    axes[ii].set_title(f'Age in {key}')\n",
    "    divider = make_axes_locatable(axes[ii])\n",
    "    cax = divider.append_axes('right', size='5%', pad=0.2)\n",
    "    fig.colorbar(im, cax=cax)\n",
    "\n",
    "fig.tight_layout()"
   ]
  },
  {
   "cell_type": "code",
   "execution_count": 12,
   "id": "spread-milan",
   "metadata": {},
   "outputs": [
    {
     "data": {
      "text/html": [
       "<div>\n",
       "<style scoped>\n",
       "    .dataframe tbody tr th:only-of-type {\n",
       "        vertical-align: middle;\n",
       "    }\n",
       "\n",
       "    .dataframe tbody tr th {\n",
       "        vertical-align: top;\n",
       "    }\n",
       "\n",
       "    .dataframe thead th {\n",
       "        text-align: right;\n",
       "    }\n",
       "</style>\n",
       "<table border=\"1\" class=\"dataframe\">\n",
       "  <thead>\n",
       "    <tr style=\"text-align: right;\">\n",
       "      <th></th>\n",
       "      <th>Unnamed: 0</th>\n",
       "      <th>count</th>\n",
       "      <th>subject</th>\n",
       "    </tr>\n",
       "  </thead>\n",
       "  <tbody>\n",
       "    <tr>\n",
       "      <th>0</th>\n",
       "      <td>0</td>\n",
       "      <td>58.0</td>\n",
       "      <td>sub-CBM00254</td>\n",
       "    </tr>\n",
       "    <tr>\n",
       "      <th>1</th>\n",
       "      <td>1</td>\n",
       "      <td>58.0</td>\n",
       "      <td>sub-CBM00181</td>\n",
       "    </tr>\n",
       "    <tr>\n",
       "      <th>2</th>\n",
       "      <td>2</td>\n",
       "      <td>58.0</td>\n",
       "      <td>sub-CBM00222</td>\n",
       "    </tr>\n",
       "    <tr>\n",
       "      <th>3</th>\n",
       "      <td>3</td>\n",
       "      <td>58.0</td>\n",
       "      <td>sub-CBM00104</td>\n",
       "    </tr>\n",
       "    <tr>\n",
       "      <th>4</th>\n",
       "      <td>4</td>\n",
       "      <td>58.0</td>\n",
       "      <td>sub-CBM00244</td>\n",
       "    </tr>\n",
       "    <tr>\n",
       "      <th>...</th>\n",
       "      <td>...</td>\n",
       "      <td>...</td>\n",
       "      <td>...</td>\n",
       "    </tr>\n",
       "    <tr>\n",
       "      <th>277</th>\n",
       "      <td>277</td>\n",
       "      <td>NaN</td>\n",
       "      <td>sub-CBM00089</td>\n",
       "    </tr>\n",
       "    <tr>\n",
       "      <th>278</th>\n",
       "      <td>278</td>\n",
       "      <td>NaN</td>\n",
       "      <td>sub-CBM00097</td>\n",
       "    </tr>\n",
       "    <tr>\n",
       "      <th>279</th>\n",
       "      <td>279</td>\n",
       "      <td>NaN</td>\n",
       "      <td>sub-CBM00095</td>\n",
       "    </tr>\n",
       "    <tr>\n",
       "      <th>280</th>\n",
       "      <td>280</td>\n",
       "      <td>NaN</td>\n",
       "      <td>sub-CBM00188</td>\n",
       "    </tr>\n",
       "    <tr>\n",
       "      <th>281</th>\n",
       "      <td>281</td>\n",
       "      <td>NaN</td>\n",
       "      <td>sub-CBM00243</td>\n",
       "    </tr>\n",
       "  </tbody>\n",
       "</table>\n",
       "<p>282 rows × 3 columns</p>\n",
       "</div>"
      ],
      "text/plain": [
       "     Unnamed: 0  count       subject\n",
       "0             0   58.0  sub-CBM00254\n",
       "1             1   58.0  sub-CBM00181\n",
       "2             2   58.0  sub-CBM00222\n",
       "3             3   58.0  sub-CBM00104\n",
       "4             4   58.0  sub-CBM00244\n",
       "..          ...    ...           ...\n",
       "277         277    NaN  sub-CBM00089\n",
       "278         278    NaN  sub-CBM00097\n",
       "279         279    NaN  sub-CBM00095\n",
       "280         280    NaN  sub-CBM00188\n",
       "281         281    NaN  sub-CBM00243\n",
       "\n",
       "[282 rows x 3 columns]"
      ]
     },
     "execution_count": 12,
     "metadata": {},
     "output_type": "execute_result"
    }
   ],
   "source": [
    "ch_counts = pd.read_csv('./outputs/channel_counts.csv')\n",
    "\n",
    "ch_counts"
   ]
  },
  {
   "cell_type": "markdown",
   "id": "wooden-silence",
   "metadata": {},
   "source": [
    "What we see here suggests there is highly structured noise. This may be atypical. **If you see something like this please go back to your preprocessing work and and double check that all is as expected.**"
   ]
  },
  {
   "cell_type": "markdown",
   "id": "heated-repeat",
   "metadata": {},
   "source": [
    "# A more advanced model\n",
    "\n",
    "Shall we still try to see if a more sophisticated model can do the job? Let's pretend we have not seen anything.\n",
    "\n",
    "Now the idea is to first put all thes covariances in a data frame where things become easier to handle."
   ]
  },
  {
   "cell_type": "code",
   "execution_count": 13,
   "id": "starting-influence",
   "metadata": {},
   "outputs": [],
   "source": [
    "frequency_bands = {\n",
    "    \"theta\": (4.0, 8.0),\n",
    "    \"alpha\": (8.0, 15.0),\n",
    "    \"beta_low\": (15.0, 26.0),\n",
    "    \"beta_high\": (26.0, 35.0),\n",
    "}\n",
    "\n",
    "X_df = pd.DataFrame(\n",
    "  {band: list(X_covs[:, ii]) for ii, band in enumerate(frequency_bands)})"
   ]
  },
  {
   "cell_type": "code",
   "execution_count": 14,
   "id": "rental-queensland",
   "metadata": {},
   "outputs": [
    {
     "data": {
      "text/plain": [
       "(199, 4)"
      ]
     },
     "execution_count": 14,
     "metadata": {},
     "output_type": "execute_result"
    }
   ],
   "source": [
    "X_df.shape"
   ]
  },
  {
   "cell_type": "code",
   "execution_count": 15,
   "id": "worthy-lloyd",
   "metadata": {},
   "outputs": [
    {
     "data": {
      "text/plain": [
       "Index(['theta', 'alpha', 'beta_low', 'beta_high'], dtype='object')"
      ]
     },
     "execution_count": 15,
     "metadata": {},
     "output_type": "execute_result"
    }
   ],
   "source": [
    "X_df.columns"
   ]
  },
  {
   "cell_type": "code",
   "execution_count": 16,
   "id": "alleged-munich",
   "metadata": {},
   "outputs": [
    {
     "data": {
      "text/html": [
       "<div>\n",
       "<style scoped>\n",
       "    .dataframe tbody tr th:only-of-type {\n",
       "        vertical-align: middle;\n",
       "    }\n",
       "\n",
       "    .dataframe tbody tr th {\n",
       "        vertical-align: top;\n",
       "    }\n",
       "\n",
       "    .dataframe thead th {\n",
       "        text-align: right;\n",
       "    }\n",
       "</style>\n",
       "<table border=\"1\" class=\"dataframe\">\n",
       "  <thead>\n",
       "    <tr style=\"text-align: right;\">\n",
       "      <th></th>\n",
       "      <th>theta</th>\n",
       "      <th>alpha</th>\n",
       "      <th>beta_low</th>\n",
       "      <th>beta_high</th>\n",
       "    </tr>\n",
       "  </thead>\n",
       "  <tbody>\n",
       "    <tr>\n",
       "      <th>0</th>\n",
       "      <td>[[8.420764662287843e-12, 8.001843360016418e-12...</td>\n",
       "      <td>[[1.8046563064223293e-11, 1.6028128184308035e-...</td>\n",
       "      <td>[[3.452268649629181e-12, 2.8089367350756876e-1...</td>\n",
       "      <td>[[2.2600169048170327e-12, 1.8382867185205294e-...</td>\n",
       "    </tr>\n",
       "    <tr>\n",
       "      <th>1</th>\n",
       "      <td>[[6.547301328924813e-12, 6.460272609390559e-12...</td>\n",
       "      <td>[[1.1928587146820973e-11, 1.1318163937736564e-...</td>\n",
       "      <td>[[7.127752769579784e-12, 7.204300503881896e-12...</td>\n",
       "      <td>[[4.480059056036581e-12, 4.43658550037379e-12,...</td>\n",
       "    </tr>\n",
       "    <tr>\n",
       "      <th>2</th>\n",
       "      <td>[[1.1478859487012193e-11, 1.023048031742237e-1...</td>\n",
       "      <td>[[2.18612483589833e-11, 1.7944189018239746e-11...</td>\n",
       "      <td>[[4.9284513976265495e-12, 3.767414520309315e-1...</td>\n",
       "      <td>[[2.7536977457536103e-12, 1.890114234835908e-1...</td>\n",
       "    </tr>\n",
       "    <tr>\n",
       "      <th>3</th>\n",
       "      <td>[[6.741736648258354e-11, 6.831747473464594e-11...</td>\n",
       "      <td>[[1.916820847784693e-11, 1.864246716778972e-11...</td>\n",
       "      <td>[[6.825490624724928e-12, 6.503432385800613e-12...</td>\n",
       "      <td>[[1.3446128738531883e-12, 1.2121223800515298e-...</td>\n",
       "    </tr>\n",
       "    <tr>\n",
       "      <th>4</th>\n",
       "      <td>[[3.476874199035379e-11, 3.421902665068691e-11...</td>\n",
       "      <td>[[1.825560169878208e-11, 1.5425695150200785e-1...</td>\n",
       "      <td>[[3.3875662844737894e-12, 2.4833523446856235e-...</td>\n",
       "      <td>[[8.97254971391774e-13, 5.356099170524265e-13,...</td>\n",
       "    </tr>\n",
       "    <tr>\n",
       "      <th>...</th>\n",
       "      <td>...</td>\n",
       "      <td>...</td>\n",
       "      <td>...</td>\n",
       "      <td>...</td>\n",
       "    </tr>\n",
       "    <tr>\n",
       "      <th>194</th>\n",
       "      <td>[[3.452726298709669e-12, 2.863510068006785e-12...</td>\n",
       "      <td>[[4.0933081945586684e-12, 2.893224566727866e-1...</td>\n",
       "      <td>[[3.5891031786235603e-12, 3.308136658544036e-1...</td>\n",
       "      <td>[[2.0234641869424802e-12, 2.03614912668672e-12...</td>\n",
       "    </tr>\n",
       "    <tr>\n",
       "      <th>195</th>\n",
       "      <td>[[5.642194871990818e-11, 5.4364868871786204e-1...</td>\n",
       "      <td>[[1.919313060052075e-11, 1.7394114664616297e-1...</td>\n",
       "      <td>[[9.180535720745648e-12, 8.066370689856116e-12...</td>\n",
       "      <td>[[3.250939534671164e-12, 3.1268497875868823e-1...</td>\n",
       "    </tr>\n",
       "    <tr>\n",
       "      <th>196</th>\n",
       "      <td>[[1.4610736796072983e-11, 1.4112788540909166e-...</td>\n",
       "      <td>[[1.1284675817298106e-11, 1.045770355129089e-1...</td>\n",
       "      <td>[[5.408350717219275e-12, 5.0440134291685755e-1...</td>\n",
       "      <td>[[1.7110296724465476e-12, 1.5658727925040516e-...</td>\n",
       "    </tr>\n",
       "    <tr>\n",
       "      <th>197</th>\n",
       "      <td>[[2.7341474331854222e-11, 2.4829111711529635e-...</td>\n",
       "      <td>[[2.832122531348642e-11, 2.3437049102802127e-1...</td>\n",
       "      <td>[[7.46709104847531e-12, 5.720200952329247e-12,...</td>\n",
       "      <td>[[2.246594128410189e-12, 1.7216660991038526e-1...</td>\n",
       "    </tr>\n",
       "    <tr>\n",
       "      <th>198</th>\n",
       "      <td>[[6.352474143893052e-12, 6.44053442084186e-12,...</td>\n",
       "      <td>[[1.0025556036539818e-11, 9.834955981667191e-1...</td>\n",
       "      <td>[[5.061654683905952e-12, 5.116287482306981e-12...</td>\n",
       "      <td>[[1.838404319608007e-12, 1.8384462290807416e-1...</td>\n",
       "    </tr>\n",
       "  </tbody>\n",
       "</table>\n",
       "<p>199 rows × 4 columns</p>\n",
       "</div>"
      ],
      "text/plain": [
       "                                                 theta  \\\n",
       "0    [[8.420764662287843e-12, 8.001843360016418e-12...   \n",
       "1    [[6.547301328924813e-12, 6.460272609390559e-12...   \n",
       "2    [[1.1478859487012193e-11, 1.023048031742237e-1...   \n",
       "3    [[6.741736648258354e-11, 6.831747473464594e-11...   \n",
       "4    [[3.476874199035379e-11, 3.421902665068691e-11...   \n",
       "..                                                 ...   \n",
       "194  [[3.452726298709669e-12, 2.863510068006785e-12...   \n",
       "195  [[5.642194871990818e-11, 5.4364868871786204e-1...   \n",
       "196  [[1.4610736796072983e-11, 1.4112788540909166e-...   \n",
       "197  [[2.7341474331854222e-11, 2.4829111711529635e-...   \n",
       "198  [[6.352474143893052e-12, 6.44053442084186e-12,...   \n",
       "\n",
       "                                                 alpha  \\\n",
       "0    [[1.8046563064223293e-11, 1.6028128184308035e-...   \n",
       "1    [[1.1928587146820973e-11, 1.1318163937736564e-...   \n",
       "2    [[2.18612483589833e-11, 1.7944189018239746e-11...   \n",
       "3    [[1.916820847784693e-11, 1.864246716778972e-11...   \n",
       "4    [[1.825560169878208e-11, 1.5425695150200785e-1...   \n",
       "..                                                 ...   \n",
       "194  [[4.0933081945586684e-12, 2.893224566727866e-1...   \n",
       "195  [[1.919313060052075e-11, 1.7394114664616297e-1...   \n",
       "196  [[1.1284675817298106e-11, 1.045770355129089e-1...   \n",
       "197  [[2.832122531348642e-11, 2.3437049102802127e-1...   \n",
       "198  [[1.0025556036539818e-11, 9.834955981667191e-1...   \n",
       "\n",
       "                                              beta_low  \\\n",
       "0    [[3.452268649629181e-12, 2.8089367350756876e-1...   \n",
       "1    [[7.127752769579784e-12, 7.204300503881896e-12...   \n",
       "2    [[4.9284513976265495e-12, 3.767414520309315e-1...   \n",
       "3    [[6.825490624724928e-12, 6.503432385800613e-12...   \n",
       "4    [[3.3875662844737894e-12, 2.4833523446856235e-...   \n",
       "..                                                 ...   \n",
       "194  [[3.5891031786235603e-12, 3.308136658544036e-1...   \n",
       "195  [[9.180535720745648e-12, 8.066370689856116e-12...   \n",
       "196  [[5.408350717219275e-12, 5.0440134291685755e-1...   \n",
       "197  [[7.46709104847531e-12, 5.720200952329247e-12,...   \n",
       "198  [[5.061654683905952e-12, 5.116287482306981e-12...   \n",
       "\n",
       "                                             beta_high  \n",
       "0    [[2.2600169048170327e-12, 1.8382867185205294e-...  \n",
       "1    [[4.480059056036581e-12, 4.43658550037379e-12,...  \n",
       "2    [[2.7536977457536103e-12, 1.890114234835908e-1...  \n",
       "3    [[1.3446128738531883e-12, 1.2121223800515298e-...  \n",
       "4    [[8.97254971391774e-13, 5.356099170524265e-13,...  \n",
       "..                                                 ...  \n",
       "194  [[2.0234641869424802e-12, 2.03614912668672e-12...  \n",
       "195  [[3.250939534671164e-12, 3.1268497875868823e-1...  \n",
       "196  [[1.7110296724465476e-12, 1.5658727925040516e-...  \n",
       "197  [[2.246594128410189e-12, 1.7216660991038526e-1...  \n",
       "198  [[1.838404319608007e-12, 1.8384462290807416e-1...  \n",
       "\n",
       "[199 rows x 4 columns]"
      ]
     },
     "execution_count": 16,
     "metadata": {},
     "output_type": "execute_result"
    }
   ],
   "source": [
    "X_df"
   ]
  },
  {
   "cell_type": "markdown",
   "id": "statewide-screen",
   "metadata": {},
   "source": [
    "Covariances in a Data Frame!"
   ]
  },
  {
   "cell_type": "code",
   "execution_count": 17,
   "id": "prepared-composer",
   "metadata": {},
   "outputs": [],
   "source": [
    " y = train_cases.Age.values"
   ]
  },
  {
   "cell_type": "code",
   "execution_count": 18,
   "id": "stuffed-mattress",
   "metadata": {},
   "outputs": [],
   "source": [
    "from sklearn.linear_model import RidgeCV, GammaRegressor\n",
    "from sklearn.model_selection import cross_val_predict\n",
    "from sklearn.preprocessing import StandardScaler\n",
    "from sklearn.pipeline import make_pipeline\n",
    "\n",
    "import coffeine"
   ]
  },
  {
   "cell_type": "code",
   "execution_count": 19,
   "id": "legal-ambassador",
   "metadata": {
    "scrolled": false
   },
   "outputs": [
    {
     "data": {
      "text/plain": [
       "<matplotlib.collections.PathCollection at 0x12b2355e0>"
      ]
     },
     "execution_count": 19,
     "metadata": {},
     "output_type": "execute_result"
    },
    {
     "data": {
      "image/png": "[encoded data removed]",
      "text/plain": [
       "<Figure size 432x288 with 1 Axes>"
      ]
     },
     "metadata": {
      "needs_background": "light"
     },
     "output_type": "display_data"
    }
   ],
   "source": [
    "filter_bank_transformer = coffeine.make_filter_bank_transformer(\n",
    "    names=['theta', 'alpha', 'beta_low', 'beta_high'], method='riemann',  # try the other options!\n",
    "    projection_params=dict(n_compo=40))\n",
    "\n",
    "\n",
    "filter_bank_model = make_pipeline(filter_bank_transformer, StandardScaler(),\n",
    "                                  RidgeCV(alphas=np.logspace(-3, 10, 100)))\n",
    "\n",
    "y_pred = cross_val_predict(estimator=filter_bank_model, X=X_df, y=y)\n",
    "plt.scatter(y, y_pred)"
   ]
  },
  {
   "cell_type": "code",
   "execution_count": 20,
   "id": "gothic-vehicle",
   "metadata": {},
   "outputs": [
    {
     "name": "stdout",
     "output_type": "stream",
     "text": [
      "-0.05354478050106892\n"
     ]
    }
   ],
   "source": [
    "from sklearn.metrics import r2_score\n",
    "print(r2_score(y_true=y, y_pred=y_pred))"
   ]
  },
  {
   "cell_type": "markdown",
   "id": "dietary-commons",
   "metadata": {},
   "source": [
    "From a theoretical standpoint and empirically, this type of model is expected to work better. We can think a moment together about it. It is most likely that something is seriously wrong about the way we are using and processing the data, which can be very tricky when first encountering a new curated dataset. Something to be clarified in the nearer future; **But we're working on it together with the CHBM team**!"
   ]
  },
  {
   "cell_type": "markdown",
   "id": "mysterious-madness",
   "metadata": {},
   "source": [
    "But it does not mean we have to stop here. The coarse patterning in the covariance matrix susggest a dominant low-rank structure. We can explore that further."
   ]
  },
  {
   "cell_type": "code",
   "execution_count": 21,
   "id": "exempt-jacksonville",
   "metadata": {},
   "outputs": [],
   "source": [
    "from scipy.linalg import svd\n",
    "s_values = np.sqrt(np.array([svd(cc[1], compute_uv=False) for cc in X_covs]))"
   ]
  },
  {
   "cell_type": "code",
   "execution_count": 22,
   "id": "elder-masters",
   "metadata": {},
   "outputs": [
    {
     "data": {
      "image/png": "[encoded data removed]",
      "text/plain": [
       "<Figure size 432x288 with 1 Axes>"
      ]
     },
     "metadata": {
      "needs_background": "light"
     },
     "output_type": "display_data"
    }
   ],
   "source": [
    "plt.plot(s_values.T);"
   ]
  },
  {
   "cell_type": "markdown",
   "id": "comfortable-christian",
   "metadata": {},
   "source": [
    "We now see that a few directions of variance dominate the spectrum. And one subject seems to even have flat spectrum. **Is it the same subject that we exculded prviously**? And does it matter?"
   ]
  },
  {
   "cell_type": "markdown",
   "id": "boring-reservation",
   "metadata": {},
   "source": [
    "This together with the bad result obtained with the Riemannian embedding suggests that there is some model violation. We should explore more optinos in coffeine's filter bank model"
   ]
  }
 ],
 "metadata": {
  "kernelspec": {
   "display_name": "Python 3.9.1 64-bit ('base': conda)",
   "language": "python",
   "name": "python39164bitbasecondae0fabca903dd46b1afc808730ddf177a"
  },
  "language_info": {
   "codemirror_mode": {
    "name": "ipython",
    "version": 3
   },
   "file_extension": ".py",
   "mimetype": "text/x-python",
   "name": "python",
   "nbconvert_exporter": "python",
   "pygments_lexer": "ipython3",
   "version": "3.9.1"
  }
 },
 "nbformat": 4,
 "nbformat_minor": 5
}
